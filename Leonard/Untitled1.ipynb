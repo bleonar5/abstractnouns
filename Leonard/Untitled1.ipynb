{
 "metadata": {
  "name": "",
  "signature": "sha256:d5a1db784db6f2aff08c14e7d48abd0adad700d376ad20ff2f451dd5d01fd4e8"
 },
 "nbformat": 3,
 "nbformat_minor": 0,
 "worksheets": []
}